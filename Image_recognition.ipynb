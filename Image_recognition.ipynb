{
  "cells": [
    {
      "cell_type": "code",
      "execution_count": 86,
      "metadata": {
        "colab": {
          "base_uri": "https://localhost:8080/"
        },
        "id": "NJy4DqUcTORX",
        "outputId": "17578811-1cdb-46db-b4f6-1be657a29d6a"
      },
      "outputs": [],
      "source": [
        "# !unzip test_all.zip"
      ]
    },
    {
      "cell_type": "code",
      "execution_count": 87,
      "metadata": {
        "colab": {
          "base_uri": "https://localhost:8080/"
        },
        "id": "lWY1ea07FN4A",
        "outputId": "a2115d40-03bd-48d4-ad03-51f72e6e12b8"
      },
      "outputs": [],
      "source": [
        "# !unzip train.zip"
      ]
    },
    {
      "cell_type": "code",
      "execution_count": 88,
      "metadata": {
        "id": "SYdaq4IxFscw"
      },
      "outputs": [],
      "source": [
        "import torch\n",
        "from torch import nn\n",
        "import torchvision\n",
        "import torchvision.transforms as transforms\n",
        "import pandas as pd\n",
        "import numpy as np\n",
        "import torch.optim as optim"
      ]
    },
    {
      "cell_type": "code",
      "execution_count": 89,
      "metadata": {
        "id": "zk5NECo6V2vH"
      },
      "outputs": [],
      "source": [
        "# torch.cuda.set_device(0)\n",
        "device = torch.device(\"cpu\")"
      ]
    },
    {
      "cell_type": "code",
      "execution_count": 90,
      "metadata": {
        "id": "jP5PADoxspoo"
      },
      "outputs": [],
      "source": [
        "torch.manual_seed(42)\n",
        "if torch.cuda.is_available(): \n",
        "    torch.cuda.manual_seed(42)\n",
        "    torch.cuda.manual_seed_all(42)\n",
        "    \n",
        "# Additionally, some operations on a GPU are implemented stochastic for efficiency\n",
        "# We want to ensure that all operations are deterministic on GPU (if used) for reproducibility\n",
        "torch.backends.cudnn.determinstic = True\n",
        "torch.backends.cudnn.benchmark = False"
      ]
    },
    {
      "cell_type": "code",
      "execution_count": 91,
      "metadata": {
        "id": "qdWT-cPhWkeS"
      },
      "outputs": [],
      "source": [
        "transform = transforms.Compose(\n",
        "    [transforms.RandomHorizontalFlip(0.5),\n",
        "     transforms.RandomVerticalFlip(0.5),\n",
        "     transforms.RandomRotation(24),\n",
        "     transforms.ToTensor(),\n",
        "     transforms.RandomErasing(0.4),\n",
        "     transforms.Normalize((0.5, 0.5, 0.5), (0.5, 0.5, 0.5))])\n",
        "\n",
        "batch_size = 128"
      ]
    },
    {
      "cell_type": "code",
      "execution_count": 92,
      "metadata": {
        "id": "eSyATJcXqQmx"
      },
      "outputs": [],
      "source": [
        "full_dataset = torchvision.datasets.ImageFolder(\"train\", transform=transform)\n"
      ]
    },
    {
      "cell_type": "code",
      "execution_count": 93,
      "metadata": {
        "id": "9aUAMczNr90a"
      },
      "outputs": [],
      "source": [
        "classes = full_dataset.classes"
      ]
    },
    {
      "cell_type": "code",
      "execution_count": 94,
      "metadata": {
        "id": "DFaRJm-OqKTO"
      },
      "outputs": [],
      "source": [
        "train_part = int(0.8 * len(full_dataset))\n",
        "train_size = int(0.8 * train_part)\n",
        "validation_size = train_part - train_size\n",
        "test_size = len(full_dataset) - train_part\n",
        "train_set, validation_set, test_set = torch.utils.data.random_split(full_dataset, [train_size, validation_size, test_size])"
      ]
    },
    {
      "cell_type": "code",
      "execution_count": 95,
      "metadata": {
        "id": "kG9woD22WFZi"
      },
      "outputs": [],
      "source": [
        "train_loader = torch.utils.data.DataLoader(train_set, batch_size=batch_size,\n",
        "                                          shuffle=True, num_workers=2)"
      ]
    },
    {
      "cell_type": "code",
      "execution_count": 96,
      "metadata": {
        "id": "gecjdNg5rOSc"
      },
      "outputs": [],
      "source": [
        "validation_loader = torch.utils.data.DataLoader(validation_set, batch_size=batch_size,\n",
        "                                          shuffle=True, num_workers=2)"
      ]
    },
    {
      "cell_type": "code",
      "execution_count": 97,
      "metadata": {},
      "outputs": [],
      "source": [
        "test_loader = torch.utils.data.DataLoader(test_set, batch_size=batch_size,\n",
        "                                          shuffle=True, num_workers=2)"
      ]
    },
    {
      "cell_type": "code",
      "execution_count": 98,
      "metadata": {
        "id": "LG5d10nXWvmr"
      },
      "outputs": [],
      "source": [
        "import torch.nn as nn\n",
        "import torch.nn.functional as F\n",
        "\n",
        "\n",
        "class Net(nn.Module):\n",
        "    def __init__(self):\n",
        "        super().__init__()\n",
        "        self.conv1 = nn.Conv2d(in_channels=3, out_channels=24, kernel_size=5, stride=1, padding=0)\n",
        "        self.pool1 = nn.MaxPool2d(kernel_size=2, stride=2)\n",
        "        self.conv2 = nn.Conv2d(24, 128, 5)\n",
        "        self.pool2 = nn.MaxPool2d(2)  ### obrazki sie zmniejszaja, dopytac na kons\n",
        "        self.fc1 = nn.Linear(128 * 13 * 13, 1800) ### dopytac o to 16 x 5 x 5\n",
        "        self.fc2 = nn.Linear(1800, 300)\n",
        "        self.fc3 = nn.Linear(300, 50)\n",
        "\n",
        "    def forward(self, x):\n",
        "        x = self.pool1(F.relu(self.conv1(x)))\n",
        "        x = self.pool2(F.relu(self.conv2(x)))\n",
        "        x = torch.flatten(x, 1) # flatten all dimensions except batch\n",
        "        x = F.relu(self.fc1(x))\n",
        "        x = F.relu(self.fc2(x))\n",
        "        x = self.fc3(x)\n",
        "        return x\n",
        "\n"
      ]
    },
    {
      "cell_type": "code",
      "execution_count": 99,
      "metadata": {
        "colab": {
          "base_uri": "https://localhost:8080/"
        },
        "id": "-w51JDLCW_ef",
        "outputId": "a9cfc065-58f8-4db2-aad0-1d1a81e3a04e"
      },
      "outputs": [
        {
          "data": {
            "text/plain": [
              "Net(\n",
              "  (conv1): Conv2d(3, 24, kernel_size=(5, 5), stride=(1, 1))\n",
              "  (pool1): MaxPool2d(kernel_size=2, stride=2, padding=0, dilation=1, ceil_mode=False)\n",
              "  (conv2): Conv2d(24, 128, kernel_size=(5, 5), stride=(1, 1))\n",
              "  (pool2): MaxPool2d(kernel_size=2, stride=2, padding=0, dilation=1, ceil_mode=False)\n",
              "  (fc1): Linear(in_features=21632, out_features=1800, bias=True)\n",
              "  (fc2): Linear(in_features=1800, out_features=300, bias=True)\n",
              "  (fc3): Linear(in_features=300, out_features=50, bias=True)\n",
              ")"
            ]
          },
          "execution_count": 99,
          "metadata": {},
          "output_type": "execute_result"
        }
      ],
      "source": [
        "net = Net().to(device)\n",
        "net"
      ]
    },
    {
      "cell_type": "code",
      "execution_count": 100,
      "metadata": {
        "id": "69aR6fBlvAlF"
      },
      "outputs": [],
      "source": [
        "# import torch.nn as nn\n",
        "# import torch.nn.functional as F\n",
        "\n",
        "\n",
        "# class Net(nn.Module):\n",
        "#     def __init__(self):\n",
        "#         super().__init__()\n",
        "#         out_channels1 = 12\n",
        "#         out_channels2 = 32\n",
        "#         self.n_convs = 20\n",
        "#         ## Warstwa konwolucyjna = ekstrakcja cech\n",
        "#         self.conv1 = nn.Conv2d(in_channels=3, out_channels=out_channels1, kernel_size=5, stride=1, padding=0)\n",
        "#         self.conv2 = nn.Conv2d(out_channels1, out_channels2, 5)\n",
        "\n",
        "#         self.convs = [nn.Conv2d(in_channels=out_channels2, out_channels=out_channels2, kernel_size=5, stride=1, padding=2) for _ in range(self.n_convs)]\n",
        "#         self.bns = [nn.BatchNorm2d(out_channels2) for _ in range(self.n_convs)]\n",
        "#         self.pool1 = nn.MaxPool2d(kernel_size=2, stride=2)\n",
        "#         self.pool2 = nn.MaxPool2d(2)\n",
        "#         self.fc1 = nn.Linear(out_channels2 * 14 * 14, 2400)\n",
        "#         self.fc2 = nn.Linear(2400, 600)\n",
        "#         self.fc3 = nn.Linear(600, 50)\n",
        "\n",
        "#     def forward(self, x):\n",
        "#         x = F.relu(self.conv1(x))\n",
        "#         x = F.relu(self.conv2(x))\n",
        "#         for i in range(self.n_convs):\n",
        "#             x = F.relu(self.convs[i](x))\n",
        "#             x = self.bns[i](x)\n",
        "#         x = self.pool1(x)\n",
        "#         x = self.pool2(x)\n",
        "#         x = torch.flatten(x, 1)\n",
        "#         x = F.relu(self.fc1(x))\n",
        "#         x = F.relu(self.fc2(x))\n",
        "#         x = self.fc3(x)\n",
        "#         return x"
      ]
    },
    {
      "cell_type": "code",
      "execution_count": 101,
      "metadata": {
        "id": "Ew4RlsZBxDec"
      },
      "outputs": [],
      "source": [
        "# net = Net().to(device)\n",
        "# for conv in net.convs:\n",
        "#     conv.to(device)\n",
        "# for bn in net.bns:\n",
        "#     bn.to(device)\n",
        "# net"
      ]
    },
    {
      "cell_type": "code",
      "execution_count": 102,
      "metadata": {
        "id": "2uE1vVujyWsv"
      },
      "outputs": [],
      "source": [
        "criterion = nn.CrossEntropyLoss()\n",
        "optimizer = optim.Adam(net.parameters(), lr=0.001)"
      ]
    },
    {
      "cell_type": "code",
      "execution_count": 103,
      "metadata": {
        "colab": {
          "base_uri": "https://localhost:8080/"
        },
        "id": "72meIifRAbtP",
        "outputId": "7d4b6c57-9ee9-47ce-acbd-54882ffd50b0"
      },
      "outputs": [],
      "source": [
        "training_loss = 0\n",
        "validation_loss = 0\n",
        "num_epochs = 10\n",
        "\n",
        "# Training loop\n",
        "for epoch in range(num_epochs):\n",
        "  net.train()\n",
        "  for i, data in enumerate(train_loader, 0):\n",
        "    inputs, labels = data\n",
        "    inputs, labels = inputs.to(device), labels.to(device)\n",
        "    # zero the parameter gradients\n",
        "    optimizer.zero_grad()\n",
        "    # forward + backward + optimize\n",
        "    outputs = net(inputs)\n",
        "    loss = criterion(outputs, labels)\n",
        "    loss.backward()\n",
        "    optimizer.step()\n",
        "    training_loss += loss.item()\n",
        "    \n",
        "  net.eval()\n",
        "  with torch.no_grad():\n",
        "      for i, data in enumerate(validation_loader, 0):\n",
        "          inputs, labels = data\n",
        "          inputs, labels = inputs.to(device), labels.to(device)\n",
        "          outputs = net(inputs)\n",
        "          loss = criterion(outputs, labels) \n",
        "          validation_loss += loss.item()\n",
        "\n",
        "  if epoch and (epoch % 1 == 0 or epoch == num_epochs - 1):    \n",
        "      print(f\"Epoch: {epoch}, training loss: {training_loss/1:.3}, validation loss: {validation_loss/1:.3}\")\n",
        "      training_loss = 0\n",
        "      validation_loss = 0"
      ]
    },
    {
      "cell_type": "code",
      "execution_count": null,
      "metadata": {
        "id": "LdFEP4TJOqtV"
      },
      "outputs": [],
      "source": [
        "torch.save(net.state_dict(), 'model.tar.gz')"
      ]
    },
    {
      "cell_type": "code",
      "execution_count": null,
      "metadata": {
        "colab": {
          "base_uri": "https://localhost:8080/"
        },
        "id": "f7f8Py4xAdCK",
        "outputId": "53e2ecce-eabf-4753-8cf6-485e04b292be"
      },
      "outputs": [],
      "source": [
        "correct_pred = {classname: 0 for classname in classes}\n",
        "total_pred = {classname: 0 for classname in classes}\n",
        "acc_sum = 0\n",
        "with torch.no_grad():\n",
        "    for i, data in enumerate(test_loader, 0):\n",
        "        inputs, labels = data\n",
        "        inputs, labels = inputs.to(device), labels.to(device)\n",
        "        outputs = net(inputs)\n",
        "        loss = criterion(outputs, labels) \n",
        "        validation_loss += loss.item()\n",
        "        _, predictions = torch.max(outputs, 1)\n",
        "        for label, prediction in zip(labels, predictions):\n",
        "          if label == prediction:\n",
        "              correct_pred[classes[label]] += 1\n",
        "          total_pred[classes[label]] += 1\n",
        "\n",
        "for classname, correct_count in correct_pred.items():\n",
        "    accuracy = 100 * float(correct_count) / total_pred[classname]\n",
        "    acc_sum += accuracy\n",
        "\n",
        "    print(\"Accuracy for class {:5s} is: {:.1f} %\".format(classname, \n",
        "                                                   accuracy))"
      ]
    },
    {
      "cell_type": "code",
      "execution_count": null,
      "metadata": {
        "colab": {
          "base_uri": "https://localhost:8080/"
        },
        "id": "W1SsM5g9AgjK",
        "outputId": "9ead2ca8-2121-4307-87c6-c10474f99cbc"
      },
      "outputs": [],
      "source": [
        "acc_average_all_classes = acc_sum / len(classes)\n",
        "acc_average_all_classes"
      ]
    }
  ],
  "metadata": {
    "accelerator": "GPU",
    "colab": {
      "provenance": []
    },
    "gpuClass": "standard",
    "kernelspec": {
      "display_name": "Python 3.8.10 64-bit",
      "language": "python",
      "name": "python3"
    },
    "language_info": {
      "codemirror_mode": {
        "name": "ipython",
        "version": 3
      },
      "file_extension": ".py",
      "mimetype": "text/x-python",
      "name": "python",
      "nbconvert_exporter": "python",
      "pygments_lexer": "ipython3",
      "version": "3.8.10"
    },
    "vscode": {
      "interpreter": {
        "hash": "916dbcbb3f70747c44a77c7bcd40155683ae19c65e1c03b4aa3499c5328201f1"
      }
    }
  },
  "nbformat": 4,
  "nbformat_minor": 0
}
